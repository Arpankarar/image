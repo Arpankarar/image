{
  "nbformat": 4,
  "nbformat_minor": 0,
  "metadata": {
    "colab": {
      "name": "image_segmentation.ipynb",
      "provenance": [],
      "collapsed_sections": [],
      "toc_visible": true
    },
    "kernelspec": {
      "name": "python3",
      "display_name": "Python 3"
    },
    "language_info": {
      "name": "python"
    }
  },
  "cells": [
    {
      "cell_type": "markdown",
      "metadata": {
        "id": "gHfK-oX_bCL-"
      },
      "source": [
        "IMAGE SEGMENTATION USING TRADITIONAL MECHINE LEARNING"
      ]
    },
    {
      "cell_type": "markdown",
      "metadata": {
        "id": "BpLFMNtHdLFC"
      },
      "source": [
        "importing the necessary libraries"
      ]
    },
    {
      "cell_type": "code",
      "metadata": {
        "id": "XxCNSyNVbA5A"
      },
      "source": [
        "import numpy as np\n",
        "import cv2\n",
        "import pandas as pd\n",
        "from sklearn import metrics\n",
        "import pickle\n",
        "from matplotlib import pyplot as plt"
      ],
      "execution_count": 26,
      "outputs": []
    },
    {
      "cell_type": "markdown",
      "metadata": {
        "id": "HVROclJTeT5r"
      },
      "source": [
        "adding the image"
      ]
    },
    {
      "cell_type": "code",
      "metadata": {
        "id": "ZfJpL5zPeTr9"
      },
      "source": [
        "img = cv2.imread(\"/content/test_img.tif\")\n",
        "#print(img)"
      ],
      "execution_count": 7,
      "outputs": []
    },
    {
      "cell_type": "markdown",
      "metadata": {
        "id": "gYHtuDusex82"
      },
      "source": [
        "changing the input image to a grey scale image "
      ]
    },
    {
      "cell_type": "code",
      "metadata": {
        "id": "-2TVO0XOemID"
      },
      "source": [
        "img = cv2.cvtColor(img,cv2.COLOR_BGR2GRAY)\n"
      ],
      "execution_count": 8,
      "outputs": []
    },
    {
      "cell_type": "markdown",
      "metadata": {
        "id": "2Um_5kHUe-QC"
      },
      "source": [
        "creating the empty data frame and entering the original image pixels"
      ]
    },
    {
      "cell_type": "code",
      "metadata": {
        "id": "RP51KOiVe75P"
      },
      "source": [
        "img2 = img.reshape(-1)\n",
        "df = pd.DataFrame()\n",
        "df['Original Image'] = img2\n"
      ],
      "execution_count": 9,
      "outputs": []
    },
    {
      "cell_type": "markdown",
      "metadata": {
        "id": "IZEE-W4qB5Bi"
      },
      "source": [
        "generating the list of gabor filter that to be applied on the image"
      ]
    },
    {
      "cell_type": "code",
      "metadata": {
        "colab": {
          "base_uri": "https://localhost:8080/"
        },
        "id": "JWD6wRccCArV",
        "outputId": "887c5971-1941-4250-b3f8-b3ea42884796"
      },
      "source": [
        "num = 1  \n",
        "kernels = []\n",
        "for theta in range(2):   #Define number of thetas\n",
        "    theta = theta / 4. * np.pi\n",
        "    for sigma in (1, 3): \n",
        "        for lamda in np.arange(0, np.pi, np.pi / 4):  \n",
        "            for gamma in (0.05, 0.5):   \n",
        "            \n",
        "                \n",
        "                gabor_label = 'Gabor' + str(num)\n",
        "                ksize=9\n",
        "                kernel = cv2.getGaborKernel((ksize, ksize), sigma, theta, lamda, gamma, 0, ktype=cv2.CV_32F)    \n",
        "                kernels.append(kernel)\n",
        "                fimg = cv2.filter2D(img2, cv2.CV_8UC3, kernel)\n",
        "                filtered_img = fimg.reshape(-1)\n",
        "                df[gabor_label] = filtered_img  #Labels columns as Gabor1, Gabor2, etc.\n",
        "                print(gabor_label, ': theta=', theta, ': sigma=', sigma, ': lamda=', lamda, ': gamma=', gamma)\n",
        "                num += 1"
      ],
      "execution_count": 10,
      "outputs": [
        {
          "output_type": "stream",
          "text": [
            "Gabor1 : theta= 0.0 : sigma= 1 : lamda= 0.0 : gamma= 0.05\n",
            "Gabor2 : theta= 0.0 : sigma= 1 : lamda= 0.0 : gamma= 0.5\n",
            "Gabor3 : theta= 0.0 : sigma= 1 : lamda= 0.7853981633974483 : gamma= 0.05\n",
            "Gabor4 : theta= 0.0 : sigma= 1 : lamda= 0.7853981633974483 : gamma= 0.5\n",
            "Gabor5 : theta= 0.0 : sigma= 1 : lamda= 1.5707963267948966 : gamma= 0.05\n",
            "Gabor6 : theta= 0.0 : sigma= 1 : lamda= 1.5707963267948966 : gamma= 0.5\n",
            "Gabor7 : theta= 0.0 : sigma= 1 : lamda= 2.356194490192345 : gamma= 0.05\n",
            "Gabor8 : theta= 0.0 : sigma= 1 : lamda= 2.356194490192345 : gamma= 0.5\n",
            "Gabor9 : theta= 0.0 : sigma= 3 : lamda= 0.0 : gamma= 0.05\n",
            "Gabor10 : theta= 0.0 : sigma= 3 : lamda= 0.0 : gamma= 0.5\n",
            "Gabor11 : theta= 0.0 : sigma= 3 : lamda= 0.7853981633974483 : gamma= 0.05\n",
            "Gabor12 : theta= 0.0 : sigma= 3 : lamda= 0.7853981633974483 : gamma= 0.5\n",
            "Gabor13 : theta= 0.0 : sigma= 3 : lamda= 1.5707963267948966 : gamma= 0.05\n",
            "Gabor14 : theta= 0.0 : sigma= 3 : lamda= 1.5707963267948966 : gamma= 0.5\n",
            "Gabor15 : theta= 0.0 : sigma= 3 : lamda= 2.356194490192345 : gamma= 0.05\n",
            "Gabor16 : theta= 0.0 : sigma= 3 : lamda= 2.356194490192345 : gamma= 0.5\n",
            "Gabor17 : theta= 0.7853981633974483 : sigma= 1 : lamda= 0.0 : gamma= 0.05\n",
            "Gabor18 : theta= 0.7853981633974483 : sigma= 1 : lamda= 0.0 : gamma= 0.5\n",
            "Gabor19 : theta= 0.7853981633974483 : sigma= 1 : lamda= 0.7853981633974483 : gamma= 0.05\n",
            "Gabor20 : theta= 0.7853981633974483 : sigma= 1 : lamda= 0.7853981633974483 : gamma= 0.5\n",
            "Gabor21 : theta= 0.7853981633974483 : sigma= 1 : lamda= 1.5707963267948966 : gamma= 0.05\n",
            "Gabor22 : theta= 0.7853981633974483 : sigma= 1 : lamda= 1.5707963267948966 : gamma= 0.5\n",
            "Gabor23 : theta= 0.7853981633974483 : sigma= 1 : lamda= 2.356194490192345 : gamma= 0.05\n",
            "Gabor24 : theta= 0.7853981633974483 : sigma= 1 : lamda= 2.356194490192345 : gamma= 0.5\n",
            "Gabor25 : theta= 0.7853981633974483 : sigma= 3 : lamda= 0.0 : gamma= 0.05\n",
            "Gabor26 : theta= 0.7853981633974483 : sigma= 3 : lamda= 0.0 : gamma= 0.5\n",
            "Gabor27 : theta= 0.7853981633974483 : sigma= 3 : lamda= 0.7853981633974483 : gamma= 0.05\n",
            "Gabor28 : theta= 0.7853981633974483 : sigma= 3 : lamda= 0.7853981633974483 : gamma= 0.5\n",
            "Gabor29 : theta= 0.7853981633974483 : sigma= 3 : lamda= 1.5707963267948966 : gamma= 0.05\n",
            "Gabor30 : theta= 0.7853981633974483 : sigma= 3 : lamda= 1.5707963267948966 : gamma= 0.5\n",
            "Gabor31 : theta= 0.7853981633974483 : sigma= 3 : lamda= 2.356194490192345 : gamma= 0.05\n",
            "Gabor32 : theta= 0.7853981633974483 : sigma= 3 : lamda= 2.356194490192345 : gamma= 0.5\n"
          ],
          "name": "stdout"
        }
      ]
    },
    {
      "cell_type": "markdown",
      "metadata": {
        "id": "iq9XuTP7CWdb"
      },
      "source": [
        "ADDING OTHER FILTERS ON THE IMAGE TO COMPARE THE RESULT"
      ]
    },
    {
      "cell_type": "markdown",
      "metadata": {
        "id": "6Pb9OjDhChBY"
      },
      "source": [
        "Canny edge filter"
      ]
    },
    {
      "cell_type": "code",
      "metadata": {
        "id": "B_hiq4GJCeTQ"
      },
      "source": [
        "edges = cv2.Canny(img, 100,200)\n",
        "edges1 = edges.reshape(-1)\n",
        "df['Canny Edge'] = edges1\n"
      ],
      "execution_count": 11,
      "outputs": []
    },
    {
      "cell_type": "markdown",
      "metadata": {
        "id": "YYJIDu6TC9_-"
      },
      "source": [
        "importing the other filters from the sklearn library"
      ]
    },
    {
      "cell_type": "code",
      "metadata": {
        "id": "qIwFHn0FC9wU"
      },
      "source": [
        "from skimage.filters import roberts, sobel, scharr, prewitt"
      ],
      "execution_count": 12,
      "outputs": []
    },
    {
      "cell_type": "markdown",
      "metadata": {
        "id": "kZNDe5dhDHsg"
      },
      "source": [
        "Roberts edge filter"
      ]
    },
    {
      "cell_type": "code",
      "metadata": {
        "id": "7O1Y2-xIDOGR"
      },
      "source": [
        "edge_roberts = roberts(img)\n",
        "edge_roberts1 = edge_roberts.reshape(-1)\n",
        "df['Roberts'] = edge_roberts1"
      ],
      "execution_count": 13,
      "outputs": []
    },
    {
      "cell_type": "markdown",
      "metadata": {
        "id": "_dOG6wbLDSPG"
      },
      "source": [
        "Sobels edge filter"
      ]
    },
    {
      "cell_type": "code",
      "metadata": {
        "id": "fXwEQM6KDduo"
      },
      "source": [
        "edge_sobel = sobel(img)\n",
        "edge_sobel1 = edge_sobel.reshape(-1)\n",
        "df['Sobel'] = edge_sobel1"
      ],
      "execution_count": 14,
      "outputs": []
    },
    {
      "cell_type": "markdown",
      "metadata": {
        "id": "CNVEJR9uDtlV"
      },
      "source": [
        "Scharr edge filter"
      ]
    },
    {
      "cell_type": "code",
      "metadata": {
        "id": "NV8kYVNgDyeO"
      },
      "source": [
        "edge_scharr = scharr(img)\n",
        "edge_scharr1 = edge_scharr.reshape(-1)\n",
        "df['Scharr'] = edge_scharr1"
      ],
      "execution_count": 15,
      "outputs": []
    },
    {
      "cell_type": "markdown",
      "metadata": {
        "id": "iTRY1K89D0uO"
      },
      "source": [
        "Prewitt edge filter"
      ]
    },
    {
      "cell_type": "code",
      "metadata": {
        "id": "zUQ7DrbKD7M5"
      },
      "source": [
        "edge_prewitt = prewitt(img)\n",
        "edge_prewitt1 = edge_prewitt.reshape(-1)\n",
        "df['Prewitt'] = edge_prewitt1"
      ],
      "execution_count": 16,
      "outputs": []
    },
    {
      "cell_type": "markdown",
      "metadata": {
        "id": "4gwyINSlD9Q-"
      },
      "source": [
        "GAUSSIAN FILTER with sigma=3"
      ]
    },
    {
      "cell_type": "code",
      "metadata": {
        "id": "jRxMvboOEBSk"
      },
      "source": [
        "from scipy import ndimage as nd\n",
        "gaussian_img = nd.gaussian_filter(img, sigma=3)\n",
        "gaussian_img1 = gaussian_img.reshape(-1)\n",
        "df['Gaussian s3'] = gaussian_img1"
      ],
      "execution_count": 17,
      "outputs": []
    },
    {
      "cell_type": "markdown",
      "metadata": {
        "id": "6JwLzBoIEOoV"
      },
      "source": [
        "GAUSSIAN FILTER with sigma=7"
      ]
    },
    {
      "cell_type": "code",
      "metadata": {
        "id": "uvuXiyyXENR3"
      },
      "source": [
        "gaussian_img2 = nd.gaussian_filter(img, sigma=7)\n",
        "gaussian_img3 = gaussian_img2.reshape(-1)\n",
        "df['Gaussian s7'] = gaussian_img3"
      ],
      "execution_count": 18,
      "outputs": []
    },
    {
      "cell_type": "markdown",
      "metadata": {
        "id": "5XQu9VfHET2w"
      },
      "source": [
        "MEDIAN with sigma=3\n"
      ]
    },
    {
      "cell_type": "code",
      "metadata": {
        "id": "MpMJ5HJgHZNt"
      },
      "source": [
        "#MEDIAN with sigma=3\n",
        "median_img = nd.median_filter(img, size=3)\n",
        "median_img1 = median_img.reshape(-1)\n",
        "df['Median s3'] = median_img1\n"
      ],
      "execution_count": 19,
      "outputs": []
    },
    {
      "cell_type": "markdown",
      "metadata": {
        "id": "WrSKm0UgHeRv"
      },
      "source": [
        "VARIANCE with size=3"
      ]
    },
    {
      "cell_type": "code",
      "metadata": {
        "id": "27EcyhGwHhVe"
      },
      "source": [
        "variance_img = nd.generic_filter(img, np.var, size=3)\n",
        "variance_img1 = variance_img.reshape(-1)\n",
        "df['Variance s3'] = variance_img1"
      ],
      "execution_count": 20,
      "outputs": []
    },
    {
      "cell_type": "markdown",
      "metadata": {
        "id": "Vr6HJhrJIl-I"
      },
      "source": [
        "add a column in the data frame for the Labels"
      ]
    },
    {
      "cell_type": "code",
      "metadata": {
        "colab": {
          "base_uri": "https://localhost:8080/"
        },
        "id": "SjeAuqVbIm4a",
        "outputId": "d587d8df-59e5-4621-c362-3a8f3836b5e4"
      },
      "source": [
        "labeled_img = cv2.imread('/content/test_img.tif')\n",
        "labeled_img = cv2.cvtColor(labeled_img, cv2.COLOR_BGR2GRAY)\n",
        "labeled_img1 = labeled_img.reshape(-1)\n",
        "df['Labels'] = labeled_img1\n",
        "print(df.head())\n",
        "#df.to_csv(\"Gabor.csv\")"
      ],
      "execution_count": 21,
      "outputs": [
        {
          "output_type": "stream",
          "text": [
            "   Original Image  Gabor1  Gabor2  ...  Median s3  Variance s3  Labels\n",
            "0               0       0       0  ...          0            0       0\n",
            "1               0       0       0  ...          0            0       0\n",
            "2               0       0       0  ...          0            0       0\n",
            "3               0       0       0  ...          0            0       0\n",
            "4               0       0       0  ...          0            0       0\n",
            "\n",
            "[5 rows x 43 columns]\n"
          ],
          "name": "stdout"
        }
      ]
    },
    {
      "cell_type": "markdown",
      "metadata": {
        "id": "KKqF6imXXJsT"
      },
      "source": [
        "preparing the data into training and test sets"
      ]
    },
    {
      "cell_type": "code",
      "metadata": {
        "id": "LGhtrBpyXW7l"
      },
      "source": [
        "Y = df[\"Labels\"].values\n",
        "X = df.drop(labels = [\"Labels\"], axis=1) \n",
        "from sklearn.model_selection import train_test_split\n",
        "X_train, X_test, y_train, y_test = train_test_split(X, Y, test_size=0.4, random_state=20)\n"
      ],
      "execution_count": 22,
      "outputs": []
    },
    {
      "cell_type": "markdown",
      "metadata": {
        "id": "VP99O4RxXi8r"
      },
      "source": [
        "importing the RandomForestClassifier model and fitting the data"
      ]
    },
    {
      "cell_type": "code",
      "metadata": {
        "id": "Htmcio5bXq4X",
        "colab": {
          "base_uri": "https://localhost:8080/"
        },
        "outputId": "073dbc4b-1528-48aa-cf2b-0ccb048d26ad"
      },
      "source": [
        "from sklearn.ensemble import RandomForestClassifier\n",
        "model = RandomForestClassifier(n_estimators = 10, random_state = 42)\n",
        "model.fit(X_train, y_train)"
      ],
      "execution_count": 23,
      "outputs": [
        {
          "output_type": "execute_result",
          "data": {
            "text/plain": [
              "RandomForestClassifier(bootstrap=True, ccp_alpha=0.0, class_weight=None,\n",
              "                       criterion='gini', max_depth=None, max_features='auto',\n",
              "                       max_leaf_nodes=None, max_samples=None,\n",
              "                       min_impurity_decrease=0.0, min_impurity_split=None,\n",
              "                       min_samples_leaf=1, min_samples_split=2,\n",
              "                       min_weight_fraction_leaf=0.0, n_estimators=10,\n",
              "                       n_jobs=None, oob_score=False, random_state=42, verbose=0,\n",
              "                       warm_start=False)"
            ]
          },
          "metadata": {
            "tags": []
          },
          "execution_count": 23
        }
      ]
    },
    {
      "cell_type": "markdown",
      "metadata": {
        "id": "FWirpmr3YSzI"
      },
      "source": [
        "to check the prediction"
      ]
    },
    {
      "cell_type": "code",
      "metadata": {
        "colab": {
          "base_uri": "https://localhost:8080/"
        },
        "id": "LE86wNo1YVA4",
        "outputId": "4fbeffa2-5812-4391-debf-ede71a497740"
      },
      "source": [
        "prediction_test_train = model.predict(X_train)\n",
        "prediction_test = model.predict(X_test)\n",
        "\n",
        "print (\"Accuracy on training data = \", metrics.accuracy_score(y_train, prediction_test_train))\n",
        "print (\"Accuracy = \", metrics.accuracy_score(y_test, prediction_test))\n"
      ],
      "execution_count": 24,
      "outputs": [
        {
          "output_type": "stream",
          "text": [
            "Accuracy on training data =  0.9991093927202251\n",
            "Accuracy =  0.8469980047161255\n"
          ],
          "name": "stdout"
        }
      ]
    },
    {
      "cell_type": "markdown",
      "metadata": {
        "id": "i7yh7y7ka8t1"
      },
      "source": [
        "importance of each column for segmentation"
      ]
    },
    {
      "cell_type": "code",
      "metadata": {
        "id": "2EFoBIZBbDRi"
      },
      "source": [
        "feature_list = list(X.columns)\n",
        "feature_imp = pd.Series(model.feature_importances_,index=feature_list).sort_values(ascending=False)\n",
        "#print(feature_imp)"
      ],
      "execution_count": 25,
      "outputs": []
    },
    {
      "cell_type": "markdown",
      "metadata": {
        "id": "JVfK26vQcfZo"
      },
      "source": [
        "Storing the model"
      ]
    },
    {
      "cell_type": "code",
      "metadata": {
        "id": "iPPsU1S9cqPL"
      },
      "source": [
        "\n",
        "filename = \"sandstone_model\"\n",
        "pickle.dump(model, open(filename, 'wb'))"
      ],
      "execution_count": null,
      "outputs": []
    },
    {
      "cell_type": "markdown",
      "metadata": {
        "id": "MNphdOIhraQW"
      },
      "source": [
        "Adding the input image to the model to observe the segmented image\n"
      ]
    },
    {
      "cell_type": "code",
      "metadata": {
        "id": "yMbT54ZOdXUW"
      },
      "source": [
        "loaded_model = pickle.load(open(filename, 'rb'))\n",
        "result = loaded_model.predict(X)\n",
        "segmented = result.reshape((img.shape))\n"
      ],
      "execution_count": null,
      "outputs": []
    },
    {
      "cell_type": "markdown",
      "metadata": {
        "id": "0KZEpu0jrptn"
      },
      "source": [
        "Visualization of the image"
      ]
    },
    {
      "cell_type": "code",
      "metadata": {
        "id": "Cxg5x7xBrtPR"
      },
      "source": [
        "\n",
        "plt.imshow(segmented, cmap ='jet')\n",
        "plt.imsave('segmented_rock_RF_100_estim.jpg', segmented, cmap ='jet')"
      ],
      "execution_count": null,
      "outputs": []
    }
  ]
}